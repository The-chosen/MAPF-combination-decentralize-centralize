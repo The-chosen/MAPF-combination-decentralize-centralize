{
 "cells": [
  {
   "cell_type": "code",
   "execution_count": 11,
   "metadata": {},
   "outputs": [],
   "source": [
    "import random\n",
    "import yaml\n",
    "import os\n",
    "import csv"
   ]
  },
  {
   "cell_type": "code",
   "execution_count": 33,
   "metadata": {},
   "outputs": [],
   "source": [
    "# Set agents start and end points\n",
    "def write_agents(SEED, agent_num, obstacle_list):\n",
    "    random.seed(SEED)\n",
    "    start_points = []\n",
    "    end_points = []\n",
    "    lines = []\n",
    "    for agent in range(agent_num):\n",
    "        while True:\n",
    "            start_point_x = random.choice(range(N))\n",
    "            start_point_y = random.choice(range(N))\n",
    "            if [start_point_x, start_point_y] in start_points or [start_point_x, start_point_y] in obstacle_list:\n",
    "                continue\n",
    "            else:\n",
    "                break\n",
    "\n",
    "        while True:\n",
    "            end_point_x = random.choice(range(N))\n",
    "            end_point_y = random.choice(range(N))\n",
    "            if [end_point_x, end_point_y] in end_points or [end_point_x, end_point_y] in obstacle_list:\n",
    "                continue\n",
    "            else:\n",
    "                break\n",
    "        start_points.append([start_point_x, start_point_y])\n",
    "        end_points.append([end_point_x, end_point_y])\n",
    "        lines.append(('-   start: [' + str(start_point_x) + ', ' + str(start_point_y) + ']\\n', \\\n",
    "    '    goal: [' + str(end_point_x) + ', ' + str(end_point_y) + ']\\n', \\\n",
    "    '    name: ' + 'agent' + str(agent) + '\\n'))\n",
    "    return lines"
   ]
  },
  {
   "cell_type": "code",
   "execution_count": 34,
   "metadata": {},
   "outputs": [],
   "source": [
    "# Set obstacles\n",
    "def write_obstacles(SEED, N, obstacle_prob):\n",
    "    obstacle_list = []\n",
    "    random.seed(SEED)\n",
    "    \n",
    "    obstacles = []\n",
    "\n",
    "    for i in range(N):\n",
    "        for j in range(N):\n",
    "            if random.random() < obstacle_prob:\n",
    "                obstacle_list.append([i, j])\n",
    "                obstacles.append('    - !!python/tuple [' + str(i) + ', ' + str(j) + ']\\n' )\n",
    "    return obstacles, obstacle_list"
   ]
  },
  {
   "cell_type": "code",
   "execution_count": 64,
   "metadata": {},
   "outputs": [
    {
     "name": "stdout",
     "output_type": "stream",
     "text": [
      "Seed: 0\n",
      "Seed: 1\n",
      "Seed: 2\n",
      "Seed: 3\n",
      "Seed: 4\n",
      "Seed: 5\n",
      "Seed: 6\n",
      "Seed: 7\n",
      "Seed: 8\n",
      "Seed: 9\n",
      "Seed: 10\n",
      "Seed: 11\n",
      "Seed: 12\n",
      "Seed: 13\n",
      "Seed: 14\n",
      "Seed: 15\n",
      "Seed: 16\n",
      "Seed: 17\n",
      "Seed: 18\n",
      "Seed: 19\n"
     ]
    }
   ],
   "source": [
    "# Generate input files\n",
    "N = 20\n",
    "SEED = 0\n",
    "\n",
    "dimension = 32\n",
    "agent_num = 50\n",
    "obstacle_prob = 0.2\n",
    "input_pth = 'inputs/'\n",
    "\n",
    "for i, seed in enumerate(range(N)):\n",
    "    print(\"Seed: \" + str(seed))\n",
    "    input_file_pth = os.path.join(input_pth, 'input_' + str(agent_num) + 'agents_'\\\n",
    "                                  + str(int(100 * obstacle_prob)) + '%_v' + str(i) + '.yaml')\n",
    "    \n",
    "    obstacle_lines, obstacle_list = write_obstacles(seed, dimension, obstacle_prob)\n",
    "    lines = write_agents(seed, agent_num, obstacle_list)\n",
    "    \n",
    "    # Write agents\n",
    "    with open(input_file_pth, \"w\") as file:\n",
    "        \n",
    "        # Writing data to a file \n",
    "        file.write(\"agents:\\n\")\n",
    "        for line in lines:\n",
    "            line1, line2, line3 = line\n",
    "            file.writelines(line1) \n",
    "            file.writelines(line2) \n",
    "            file.writelines(line3) \n",
    "        \n",
    "    # Write static obstacles\n",
    "        \n",
    "        file.write(\"map:\\n\")\n",
    "        file.write(\"    dimensions: [\" + str(dimension) + \", \" + str(dimension) + \"]\\n\")\n",
    "        file.write(\"    obstacles:\\n\")\n",
    "        for obstacle_line in obstacle_lines:\n",
    "            file.writelines(obstacle_line) \n"
   ]
  },
  {
   "cell_type": "code",
   "execution_count": 65,
   "metadata": {},
   "outputs": [
    {
     "name": "stdout",
     "output_type": "stream",
     "text": [
      "python3 multi_thread_mapf.py inputs/input_50agents_20%_v0.yaml outputs/output_50agents_20%_v0.yaml 0 50 20\n",
      "python3 multi_thread_mapf.py inputs/input_50agents_20%_v1.yaml outputs/output_50agents_20%_v1.yaml 1 50 20\n",
      "python3 multi_thread_mapf.py inputs/input_50agents_20%_v2.yaml outputs/output_50agents_20%_v2.yaml 2 50 20\n",
      "python3 multi_thread_mapf.py inputs/input_50agents_20%_v3.yaml outputs/output_50agents_20%_v3.yaml 3 50 20\n",
      "python3 multi_thread_mapf.py inputs/input_50agents_20%_v4.yaml outputs/output_50agents_20%_v4.yaml 4 50 20\n",
      "python3 multi_thread_mapf.py inputs/input_50agents_20%_v5.yaml outputs/output_50agents_20%_v5.yaml 5 50 20\n",
      "python3 multi_thread_mapf.py inputs/input_50agents_20%_v6.yaml outputs/output_50agents_20%_v6.yaml 6 50 20\n",
      "python3 multi_thread_mapf.py inputs/input_50agents_20%_v7.yaml outputs/output_50agents_20%_v7.yaml 7 50 20\n",
      "python3 multi_thread_mapf.py inputs/input_50agents_20%_v8.yaml outputs/output_50agents_20%_v8.yaml 8 50 20\n",
      "python3 multi_thread_mapf.py inputs/input_50agents_20%_v9.yaml outputs/output_50agents_20%_v9.yaml 9 50 20\n",
      "python3 multi_thread_mapf.py inputs/input_50agents_20%_v10.yaml outputs/output_50agents_20%_v10.yaml 10 50 20\n",
      "python3 multi_thread_mapf.py inputs/input_50agents_20%_v11.yaml outputs/output_50agents_20%_v11.yaml 11 50 20\n",
      "python3 multi_thread_mapf.py inputs/input_50agents_20%_v12.yaml outputs/output_50agents_20%_v12.yaml 12 50 20\n",
      "python3 multi_thread_mapf.py inputs/input_50agents_20%_v13.yaml outputs/output_50agents_20%_v13.yaml 13 50 20\n",
      "python3 multi_thread_mapf.py inputs/input_50agents_20%_v14.yaml outputs/output_50agents_20%_v14.yaml 14 50 20\n",
      "python3 multi_thread_mapf.py inputs/input_50agents_20%_v15.yaml outputs/output_50agents_20%_v15.yaml 15 50 20\n",
      "python3 multi_thread_mapf.py inputs/input_50agents_20%_v16.yaml outputs/output_50agents_20%_v16.yaml 16 50 20\n",
      "python3 multi_thread_mapf.py inputs/input_50agents_20%_v17.yaml outputs/output_50agents_20%_v17.yaml 17 50 20\n",
      "python3 multi_thread_mapf.py inputs/input_50agents_20%_v18.yaml outputs/output_50agents_20%_v18.yaml 18 50 20\n",
      "python3 multi_thread_mapf.py inputs/input_50agents_20%_v19.yaml outputs/output_50agents_20%_v19.yaml 19 50 20\n"
     ]
    }
   ],
   "source": [
    "for i in range(N):\n",
    "    print('python3 multi_thread_mapf.py inputs/' + \\\n",
    "          'input_' + str(agent_num) + 'agents_' + str(int(100 * obstacle_prob)) + '%_v' + str(i) + '.yaml' + \\\n",
    "          ' outputs/' + 'output_' + str(agent_num) + 'agents_' + str(int(100 * obstacle_prob)) + '%_v' + str(i) + '.yaml '\\\n",
    "         + str(i) + ' ' + str(agent_num) + ' ' + str(int(100 * obstacle_prob)))"
   ]
  },
  {
   "cell_type": "code",
   "execution_count": null,
   "metadata": {},
   "outputs": [],
   "source": []
  },
  {
   "cell_type": "code",
   "execution_count": null,
   "metadata": {},
   "outputs": [],
   "source": []
  },
  {
   "cell_type": "code",
   "execution_count": null,
   "metadata": {},
   "outputs": [],
   "source": []
  },
  {
   "cell_type": "code",
   "execution_count": null,
   "metadata": {},
   "outputs": [],
   "source": []
  },
  {
   "cell_type": "code",
   "execution_count": 25,
   "metadata": {},
   "outputs": [
    {
     "name": "stdout",
     "output_type": "stream",
     "text": [
      "dimensions\n",
      "[32, 32]\n",
      "obstacles\n",
      "[(0, 7), (0, 13), (0, 22), (0, 27), (0, 28), (0, 29), (1, 5), (1, 8), (1, 11), (1, 17), (1, 21), (1, 23), (1, 24), (2, 0), (2, 1), (2, 3), (2, 10), (2, 14), (2, 25), (3, 1), (3, 5), (3, 6), (3, 8), (3, 9), (3, 10), (3, 24), (4, 6), (4, 13), (4, 16), (4, 18), (4, 19), (4, 21), (5, 8), (5, 10), (5, 11), (6, 4), (6, 7), (6, 13), (6, 14), (6, 15), (6, 21), (6, 26), (7, 3), (7, 5), (7, 10), (7, 11), (7, 15), (7, 22), (7, 28), (8, 2), (8, 4), (8, 6), (8, 13), (8, 14), (8, 17), (8, 18), (8, 21), (8, 23), (8, 27), (8, 28), (9, 2), (9, 9), (9, 11), (9, 12), (9, 23), (9, 24), (9, 27), (10, 3), (10, 6), (10, 8), (10, 16), (10, 26), (10, 27), (10, 28), (10, 29), (11, 0), (11, 2), (11, 8), (11, 12), (11, 17), (11, 19), (11, 21), (11, 22), (11, 24), (11, 25), (11, 26), (12, 15), (12, 18), (12, 20), (12, 28), (13, 7), (13, 11), (13, 21), (13, 29), (13, 30), (14, 6), (14, 9), (14, 22), (14, 27), (14, 28), (14, 29), (15, 2), (15, 5), (15, 10), (15, 14), (15, 17), (15, 20), (15, 22), (15, 23), (15, 28), (16, 2), (16, 17), (16, 24), (16, 26), (16, 29), (16, 30), (17, 2), (17, 4), (17, 6), (17, 13), (17, 14), (17, 28), (18, 2), (18, 6), (18, 10), (18, 12), (19, 0), (19, 3), (19, 20), (20, 3), (20, 10), (20, 11), (20, 28), (20, 31), (21, 3), (21, 4), (21, 7), (21, 9), (21, 14), (21, 25), (21, 31), (22, 5), (22, 7), (22, 8), (22, 13), (22, 17), (22, 19), (22, 22), (22, 28), (23, 8), (23, 13), (23, 23), (23, 30), (24, 1), (24, 3), (24, 5), (24, 9), (24, 13), (24, 14), (24, 16), (24, 17), (24, 20), (24, 25), (24, 31), (25, 1), (25, 9), (25, 12), (25, 15), (25, 25), (25, 26), (25, 27), (26, 2), (26, 8), (26, 9), (26, 23), (26, 24), (26, 27), (27, 1), (27, 2), (27, 5), (27, 9), (27, 19), (27, 21), (27, 26), (27, 31), (28, 1), (28, 11), (28, 14), (29, 14), (29, 15), (29, 18), (29, 21), (29, 22), (29, 26), (29, 28), (29, 30), (30, 5), (30, 8), (30, 13), (30, 18), (31, 8), (31, 11), (31, 14), (31, 16), (31, 21), (31, 22), (31, 30)]\n"
     ]
    }
   ],
   "source": [
    "with open('input.yaml', 'r') as param_file:\n",
    "    try:\n",
    "        param = yaml.load(param_file, Loader=yaml.FullLoader)['map']\n",
    "#         print(json.dumps(param, sort_keys=True, indent=4))\n",
    "    except yaml.YAMLError as exc:\n",
    "        print(exc)\n",
    "\n",
    "        \n",
    "for obstacle_name, pos in param.items():\n",
    "    print(obstacle_name)\n",
    "    print(pos)\n",
    "        "
   ]
  },
  {
   "cell_type": "code",
   "execution_count": 37,
   "metadata": {},
   "outputs": [
    {
     "name": "stderr",
     "output_type": "stream",
     "text": [
      "WARNING:root:This is a warning log.\n",
      "ERROR:root:This is a error log.\n",
      "CRITICAL:root:This is a critical log.\n"
     ]
    }
   ],
   "source": [
    "import logging\n",
    "\n",
    "logging.debug(\"This is a debug log.\")\n",
    "logging.info(\"This is a info log.\")\n",
    "logging.warning(\"This is a warning log.\")\n",
    "logging.error(\"This is a error log.\")\n",
    "logging.critical(\"This is a critical log.\")"
   ]
  },
  {
   "cell_type": "code",
   "execution_count": 38,
   "metadata": {},
   "outputs": [
    {
     "data": {
      "text/plain": [
       "20.0"
      ]
     },
     "execution_count": 38,
     "metadata": {},
     "output_type": "execute_result"
    }
   ],
   "source": [
    "0.2 * 100"
   ]
  },
  {
   "cell_type": "code",
   "execution_count": 68,
   "metadata": {},
   "outputs": [
    {
     "data": {
      "text/plain": [
       "'cd ../o2 && cp test_info.pth.tar  ../test_info/test_info_o2.pth.tar && cd ../o3 && cp test_info.pth.tar  ../test_info/test_info_o3.pth.tar && cd ../o4 && cp test_info.pth.tar  ../test_info/test_info_o4.pth.tar && cd ../o5 && cp test_info.pth.tar  ../test_info/test_info_o5.pth.tar && cd ../o6 && cp test_info.pth.tar  ../test_info/test_info_o6.pth.tar && cd ../o7 && cp test_info.pth.tar  ../test_info/test_info_o7.pth.tar && cd ../o8 && cp test_info.pth.tar  ../test_info/test_info_o8.pth.tar && cd ../o9 && cp test_info.pth.tar  ../test_info/test_info_o9.pth.tar && cd ../o10 && cp test_info.pth.tar  ../test_info/test_info_o10.pth.tar && cd ../o11 && cp test_info.pth.tar  ../test_info/test_info_o11.pth.tar && cd ../o12 && cp test_info.pth.tar  ../test_info/test_info_o12.pth.tar && '"
      ]
     },
     "execution_count": 68,
     "metadata": {},
     "output_type": "execute_result"
    }
   ],
   "source": [
    "s = ''\n",
    "for i in range(2, 13):\n",
    "    s += 'cd ../o' + str(i) + ' && cp test_info.pth.tar  ../test_info/test_info_o' + str(i) + '.pth.tar && '\n",
    "s"
   ]
  },
  {
   "cell_type": "code",
   "execution_count": null,
   "metadata": {},
   "outputs": [],
   "source": []
  },
  {
   "cell_type": "code",
   "execution_count": null,
   "metadata": {},
   "outputs": [],
   "source": []
  },
  {
   "cell_type": "code",
   "execution_count": 1,
   "metadata": {},
   "outputs": [],
   "source": [
    "# 4 * 4 MAP Genration"
   ]
  },
  {
   "cell_type": "code",
   "execution_count": 8,
   "metadata": {},
   "outputs": [
    {
     "name": "stdout",
     "output_type": "stream",
     "text": [
      "    - !!python/tuple [0, 3]\n",
      "    - !!python/tuple [3, 0]\n",
      "    - !!python/tuple [1, 3]\n",
      "    - !!python/tuple [3, 2]\n"
     ]
    }
   ],
   "source": [
    "# Static obstacles\n",
    "import random\n",
    "SEED = 10\n",
    "random.seed(SEED)\n",
    "L = 4 # length of square\n",
    "num_obs = 4 # number of obstacles\n",
    "obstacles = []\n",
    "for i in range(num_obs):\n",
    "    while True:\n",
    "        X = random.choice(range(num_obs))\n",
    "        Y = random.choice(range(num_obs))\n",
    "        if (X, Y) not in obstacles:\n",
    "            obstacles.append((X, Y))\n",
    "            break\n",
    "    print('    - !!python/tuple [' + str(X) + ', ' + str(Y) + ']')"
   ]
  },
  {
   "cell_type": "code",
   "execution_count": null,
   "metadata": {},
   "outputs": [],
   "source": [
    "# Generate agent positions\n",
    "import random\n",
    "num_agent = 10\n",
    "# Generate input stream\n",
    "for i in range()"
   ]
  },
  {
   "cell_type": "code",
   "execution_count": null,
   "metadata": {},
   "outputs": [],
   "source": [
    "-   start: [30, 17]\n",
    "    goal: [22, 9]\n",
    "    name: agent0"
   ]
  }
 ],
 "metadata": {
  "kernelspec": {
   "display_name": "Python 3",
   "language": "python",
   "name": "python3"
  },
  "language_info": {
   "codemirror_mode": {
    "name": "ipython",
    "version": 3
   },
   "file_extension": ".py",
   "mimetype": "text/x-python",
   "name": "python",
   "nbconvert_exporter": "python",
   "pygments_lexer": "ipython3",
   "version": "3.8.3"
  }
 },
 "nbformat": 4,
 "nbformat_minor": 4
}
