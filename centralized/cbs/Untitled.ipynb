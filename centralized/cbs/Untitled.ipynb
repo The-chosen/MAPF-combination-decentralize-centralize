{
 "cells": [
  {
   "cell_type": "code",
   "execution_count": 24,
   "metadata": {},
   "outputs": [],
   "source": [
    "import random\n",
    "import yaml"
   ]
  },
  {
   "cell_type": "code",
   "execution_count": 6,
   "metadata": {},
   "outputs": [],
   "source": []
  },
  {
   "cell_type": "code",
   "execution_count": 27,
   "metadata": {},
   "outputs": [
    {
     "name": "stdout",
     "output_type": "stream",
     "text": [
      "    - !!python/tuple [0, 7]\n",
      "    - !!python/tuple [0, 13]\n",
      "    - !!python/tuple [0, 22]\n",
      "    - !!python/tuple [0, 27]\n",
      "    - !!python/tuple [0, 28]\n",
      "    - !!python/tuple [0, 29]\n",
      "    - !!python/tuple [1, 5]\n",
      "    - !!python/tuple [1, 8]\n",
      "    - !!python/tuple [1, 11]\n",
      "    - !!python/tuple [1, 17]\n",
      "    - !!python/tuple [1, 21]\n",
      "    - !!python/tuple [1, 23]\n",
      "    - !!python/tuple [1, 24]\n",
      "    - !!python/tuple [2, 0]\n",
      "    - !!python/tuple [2, 1]\n",
      "    - !!python/tuple [2, 3]\n",
      "    - !!python/tuple [2, 10]\n",
      "    - !!python/tuple [2, 14]\n",
      "    - !!python/tuple [2, 25]\n",
      "    - !!python/tuple [3, 1]\n",
      "    - !!python/tuple [3, 5]\n",
      "    - !!python/tuple [3, 6]\n",
      "    - !!python/tuple [3, 8]\n",
      "    - !!python/tuple [3, 9]\n",
      "    - !!python/tuple [3, 10]\n",
      "    - !!python/tuple [3, 24]\n",
      "    - !!python/tuple [4, 6]\n",
      "    - !!python/tuple [4, 13]\n",
      "    - !!python/tuple [4, 16]\n",
      "    - !!python/tuple [4, 18]\n",
      "    - !!python/tuple [4, 19]\n",
      "    - !!python/tuple [4, 21]\n",
      "    - !!python/tuple [5, 8]\n",
      "    - !!python/tuple [5, 10]\n",
      "    - !!python/tuple [5, 11]\n",
      "    - !!python/tuple [6, 4]\n",
      "    - !!python/tuple [6, 7]\n",
      "    - !!python/tuple [6, 13]\n",
      "    - !!python/tuple [6, 14]\n",
      "    - !!python/tuple [6, 15]\n",
      "    - !!python/tuple [6, 21]\n",
      "    - !!python/tuple [6, 26]\n",
      "    - !!python/tuple [7, 3]\n",
      "    - !!python/tuple [7, 5]\n",
      "    - !!python/tuple [7, 10]\n",
      "    - !!python/tuple [7, 11]\n",
      "    - !!python/tuple [7, 15]\n",
      "    - !!python/tuple [7, 22]\n",
      "    - !!python/tuple [7, 28]\n",
      "    - !!python/tuple [8, 2]\n",
      "    - !!python/tuple [8, 4]\n",
      "    - !!python/tuple [8, 6]\n",
      "    - !!python/tuple [8, 13]\n",
      "    - !!python/tuple [8, 14]\n",
      "    - !!python/tuple [8, 17]\n",
      "    - !!python/tuple [8, 18]\n",
      "    - !!python/tuple [8, 21]\n",
      "    - !!python/tuple [8, 23]\n",
      "    - !!python/tuple [8, 27]\n",
      "    - !!python/tuple [8, 28]\n",
      "    - !!python/tuple [9, 2]\n",
      "    - !!python/tuple [9, 9]\n",
      "    - !!python/tuple [9, 11]\n",
      "    - !!python/tuple [9, 12]\n",
      "    - !!python/tuple [9, 23]\n",
      "    - !!python/tuple [9, 24]\n",
      "    - !!python/tuple [9, 27]\n",
      "    - !!python/tuple [10, 3]\n",
      "    - !!python/tuple [10, 6]\n",
      "    - !!python/tuple [10, 8]\n",
      "    - !!python/tuple [10, 16]\n",
      "    - !!python/tuple [10, 26]\n",
      "    - !!python/tuple [10, 27]\n",
      "    - !!python/tuple [10, 28]\n",
      "    - !!python/tuple [10, 29]\n",
      "    - !!python/tuple [11, 0]\n",
      "    - !!python/tuple [11, 2]\n",
      "    - !!python/tuple [11, 8]\n",
      "    - !!python/tuple [11, 12]\n",
      "    - !!python/tuple [11, 17]\n",
      "    - !!python/tuple [11, 19]\n",
      "    - !!python/tuple [11, 21]\n",
      "    - !!python/tuple [11, 22]\n",
      "    - !!python/tuple [11, 24]\n",
      "    - !!python/tuple [11, 25]\n",
      "    - !!python/tuple [11, 26]\n",
      "    - !!python/tuple [12, 15]\n",
      "    - !!python/tuple [12, 18]\n",
      "    - !!python/tuple [12, 20]\n",
      "    - !!python/tuple [12, 28]\n",
      "    - !!python/tuple [13, 7]\n",
      "    - !!python/tuple [13, 11]\n",
      "    - !!python/tuple [13, 21]\n",
      "    - !!python/tuple [13, 29]\n",
      "    - !!python/tuple [13, 30]\n",
      "    - !!python/tuple [14, 6]\n",
      "    - !!python/tuple [14, 9]\n",
      "    - !!python/tuple [14, 22]\n",
      "    - !!python/tuple [14, 27]\n",
      "    - !!python/tuple [14, 28]\n",
      "    - !!python/tuple [14, 29]\n",
      "    - !!python/tuple [15, 2]\n",
      "    - !!python/tuple [15, 5]\n",
      "    - !!python/tuple [15, 10]\n",
      "    - !!python/tuple [15, 14]\n",
      "    - !!python/tuple [15, 17]\n",
      "    - !!python/tuple [15, 20]\n",
      "    - !!python/tuple [15, 22]\n",
      "    - !!python/tuple [15, 23]\n",
      "    - !!python/tuple [15, 28]\n",
      "    - !!python/tuple [16, 2]\n",
      "    - !!python/tuple [16, 17]\n",
      "    - !!python/tuple [16, 24]\n",
      "    - !!python/tuple [16, 26]\n",
      "    - !!python/tuple [16, 29]\n",
      "    - !!python/tuple [16, 30]\n",
      "    - !!python/tuple [17, 2]\n",
      "    - !!python/tuple [17, 4]\n",
      "    - !!python/tuple [17, 6]\n",
      "    - !!python/tuple [17, 13]\n",
      "    - !!python/tuple [17, 14]\n",
      "    - !!python/tuple [17, 28]\n",
      "    - !!python/tuple [18, 2]\n",
      "    - !!python/tuple [18, 6]\n",
      "    - !!python/tuple [18, 10]\n",
      "    - !!python/tuple [18, 12]\n",
      "    - !!python/tuple [19, 0]\n",
      "    - !!python/tuple [19, 3]\n",
      "    - !!python/tuple [19, 20]\n",
      "    - !!python/tuple [20, 3]\n",
      "    - !!python/tuple [20, 10]\n",
      "    - !!python/tuple [20, 11]\n",
      "    - !!python/tuple [20, 28]\n",
      "    - !!python/tuple [20, 31]\n",
      "    - !!python/tuple [21, 3]\n",
      "    - !!python/tuple [21, 4]\n",
      "    - !!python/tuple [21, 7]\n",
      "    - !!python/tuple [21, 9]\n",
      "    - !!python/tuple [21, 14]\n",
      "    - !!python/tuple [21, 25]\n",
      "    - !!python/tuple [21, 31]\n",
      "    - !!python/tuple [22, 5]\n",
      "    - !!python/tuple [22, 7]\n",
      "    - !!python/tuple [22, 8]\n",
      "    - !!python/tuple [22, 13]\n",
      "    - !!python/tuple [22, 17]\n",
      "    - !!python/tuple [22, 19]\n",
      "    - !!python/tuple [22, 22]\n",
      "    - !!python/tuple [22, 28]\n",
      "    - !!python/tuple [23, 8]\n",
      "    - !!python/tuple [23, 13]\n",
      "    - !!python/tuple [23, 23]\n",
      "    - !!python/tuple [23, 30]\n",
      "    - !!python/tuple [24, 1]\n",
      "    - !!python/tuple [24, 3]\n",
      "    - !!python/tuple [24, 5]\n",
      "    - !!python/tuple [24, 9]\n",
      "    - !!python/tuple [24, 13]\n",
      "    - !!python/tuple [24, 14]\n",
      "    - !!python/tuple [24, 16]\n",
      "    - !!python/tuple [24, 17]\n",
      "    - !!python/tuple [24, 20]\n",
      "    - !!python/tuple [24, 25]\n",
      "    - !!python/tuple [24, 31]\n",
      "    - !!python/tuple [25, 1]\n",
      "    - !!python/tuple [25, 9]\n",
      "    - !!python/tuple [25, 12]\n",
      "    - !!python/tuple [25, 15]\n",
      "    - !!python/tuple [25, 25]\n",
      "    - !!python/tuple [25, 26]\n",
      "    - !!python/tuple [25, 27]\n",
      "    - !!python/tuple [26, 2]\n",
      "    - !!python/tuple [26, 8]\n",
      "    - !!python/tuple [26, 9]\n",
      "    - !!python/tuple [26, 23]\n",
      "    - !!python/tuple [26, 24]\n",
      "    - !!python/tuple [26, 27]\n",
      "    - !!python/tuple [27, 1]\n",
      "    - !!python/tuple [27, 2]\n",
      "    - !!python/tuple [27, 5]\n",
      "    - !!python/tuple [27, 9]\n",
      "    - !!python/tuple [27, 19]\n",
      "    - !!python/tuple [27, 21]\n",
      "    - !!python/tuple [27, 26]\n",
      "    - !!python/tuple [27, 31]\n",
      "    - !!python/tuple [28, 1]\n",
      "    - !!python/tuple [28, 11]\n",
      "    - !!python/tuple [28, 14]\n",
      "    - !!python/tuple [29, 14]\n",
      "    - !!python/tuple [29, 15]\n",
      "    - !!python/tuple [29, 18]\n",
      "    - !!python/tuple [29, 21]\n",
      "    - !!python/tuple [29, 22]\n",
      "    - !!python/tuple [29, 26]\n",
      "    - !!python/tuple [29, 28]\n",
      "    - !!python/tuple [29, 30]\n",
      "    - !!python/tuple [30, 5]\n",
      "    - !!python/tuple [30, 8]\n",
      "    - !!python/tuple [30, 13]\n",
      "    - !!python/tuple [30, 18]\n",
      "    - !!python/tuple [31, 8]\n",
      "    - !!python/tuple [31, 11]\n",
      "    - !!python/tuple [31, 14]\n",
      "    - !!python/tuple [31, 16]\n",
      "    - !!python/tuple [31, 21]\n",
      "    - !!python/tuple [31, 22]\n",
      "    - !!python/tuple [31, 30]\n"
     ]
    }
   ],
   "source": [
    "# Set obstacles\n",
    "obstacle_list = []\n",
    "N = 32\n",
    "random.seed(10)\n",
    "obstacle_prob = 0.2\n",
    "for i in range(N):\n",
    "    for j in range(N):\n",
    "        if random.random() < obstacle_prob:\n",
    "            obstacle_list.append([i, j])\n",
    "            print('    - !!python/tuple [' + str(i) + ', ' + str(j) + ']')"
   ]
  },
  {
   "cell_type": "code",
   "execution_count": 28,
   "metadata": {},
   "outputs": [
    {
     "name": "stdout",
     "output_type": "stream",
     "text": [
      "-   start: [30, 17]\n",
      "    goal: [22, 9]\n",
      "    name: agent0\n",
      "-   start: [24, 0]\n",
      "    goal: [17, 29]\n",
      "    name: agent1\n",
      "-   start: [14, 0]\n",
      "    goal: [9, 28]\n",
      "    name: agent2\n",
      "-   start: [23, 10]\n",
      "    goal: [21, 13]\n",
      "    name: agent3\n",
      "-   start: [3, 12]\n",
      "    goal: [25, 5]\n",
      "    name: agent4\n",
      "-   start: [1, 3]\n",
      "    goal: [14, 5]\n",
      "    name: agent5\n",
      "-   start: [27, 28]\n",
      "    goal: [7, 27]\n",
      "    name: agent6\n",
      "-   start: [8, 20]\n",
      "    goal: [10, 5]\n",
      "    name: agent7\n",
      "-   start: [30, 30]\n",
      "    goal: [5, 12]\n",
      "    name: agent8\n",
      "-   start: [16, 22]\n",
      "    goal: [23, 24]\n",
      "    name: agent9\n",
      "-   start: [19, 7]\n",
      "    goal: [16, 15]\n",
      "    name: agent10\n",
      "-   start: [21, 23]\n",
      "    goal: [23, 11]\n",
      "    name: agent11\n"
     ]
    }
   ],
   "source": [
    "# Set agents start and end points\n",
    "random.seed(12)\n",
    "agent_num = 12\n",
    "start_points = []\n",
    "end_points = []\n",
    "for agent in range(agent_num):\n",
    "    while True:\n",
    "        start_point_x = random.choice(range(N))\n",
    "        start_point_y = random.choice(range(N))\n",
    "        if [start_point_x, start_point_y] in start_points or [start_point_x, start_point_y] in obstacle_list:\n",
    "            continue\n",
    "        else:\n",
    "            break\n",
    "            \n",
    "    while True:\n",
    "        end_point_x = random.choice(range(N))\n",
    "        end_point_y = random.choice(range(N))\n",
    "        if [end_point_x, end_point_y] in end_points or [end_point_x, end_point_y] in obstacle_list:\n",
    "            continue\n",
    "        else:\n",
    "            break\n",
    "    start_points.append([start_point_x, start_point_y])\n",
    "    end_points.append([end_point_x, end_point_y])\n",
    "    print('-   start: [' + str(start_point_x) + ', ' + str(start_point_y) + ']')\n",
    "    print('    goal: [' + str(end_point_x) + ', ' + str(end_point_y) + ']')\n",
    "    print('    name: ' + 'agent' + str(agent))"
   ]
  },
  {
   "cell_type": "code",
   "execution_count": 116,
   "metadata": {},
   "outputs": [
    {
     "data": {
      "text/plain": [
       "<cbs.cbs.Location at 0x7f83769536a0>"
      ]
     },
     "execution_count": 116,
     "metadata": {},
     "output_type": "execute_result"
    }
   ],
   "source": [
    "# import json\n",
    "import sys\n",
    "sys.path.append(\"../\")\n",
    "from cbs.cbs import *\n",
    "Location(1, 2)\n",
    "# cbs.Location()"
   ]
  },
  {
   "cell_type": "code",
   "execution_count": 25,
   "metadata": {},
   "outputs": [
    {
     "name": "stdout",
     "output_type": "stream",
     "text": [
      "dimensions\n",
      "[32, 32]\n",
      "obstacles\n",
      "[(0, 7), (0, 13), (0, 22), (0, 27), (0, 28), (0, 29), (1, 5), (1, 8), (1, 11), (1, 17), (1, 21), (1, 23), (1, 24), (2, 0), (2, 1), (2, 3), (2, 10), (2, 14), (2, 25), (3, 1), (3, 5), (3, 6), (3, 8), (3, 9), (3, 10), (3, 24), (4, 6), (4, 13), (4, 16), (4, 18), (4, 19), (4, 21), (5, 8), (5, 10), (5, 11), (6, 4), (6, 7), (6, 13), (6, 14), (6, 15), (6, 21), (6, 26), (7, 3), (7, 5), (7, 10), (7, 11), (7, 15), (7, 22), (7, 28), (8, 2), (8, 4), (8, 6), (8, 13), (8, 14), (8, 17), (8, 18), (8, 21), (8, 23), (8, 27), (8, 28), (9, 2), (9, 9), (9, 11), (9, 12), (9, 23), (9, 24), (9, 27), (10, 3), (10, 6), (10, 8), (10, 16), (10, 26), (10, 27), (10, 28), (10, 29), (11, 0), (11, 2), (11, 8), (11, 12), (11, 17), (11, 19), (11, 21), (11, 22), (11, 24), (11, 25), (11, 26), (12, 15), (12, 18), (12, 20), (12, 28), (13, 7), (13, 11), (13, 21), (13, 29), (13, 30), (14, 6), (14, 9), (14, 22), (14, 27), (14, 28), (14, 29), (15, 2), (15, 5), (15, 10), (15, 14), (15, 17), (15, 20), (15, 22), (15, 23), (15, 28), (16, 2), (16, 17), (16, 24), (16, 26), (16, 29), (16, 30), (17, 2), (17, 4), (17, 6), (17, 13), (17, 14), (17, 28), (18, 2), (18, 6), (18, 10), (18, 12), (19, 0), (19, 3), (19, 20), (20, 3), (20, 10), (20, 11), (20, 28), (20, 31), (21, 3), (21, 4), (21, 7), (21, 9), (21, 14), (21, 25), (21, 31), (22, 5), (22, 7), (22, 8), (22, 13), (22, 17), (22, 19), (22, 22), (22, 28), (23, 8), (23, 13), (23, 23), (23, 30), (24, 1), (24, 3), (24, 5), (24, 9), (24, 13), (24, 14), (24, 16), (24, 17), (24, 20), (24, 25), (24, 31), (25, 1), (25, 9), (25, 12), (25, 15), (25, 25), (25, 26), (25, 27), (26, 2), (26, 8), (26, 9), (26, 23), (26, 24), (26, 27), (27, 1), (27, 2), (27, 5), (27, 9), (27, 19), (27, 21), (27, 26), (27, 31), (28, 1), (28, 11), (28, 14), (29, 14), (29, 15), (29, 18), (29, 21), (29, 22), (29, 26), (29, 28), (29, 30), (30, 5), (30, 8), (30, 13), (30, 18), (31, 8), (31, 11), (31, 14), (31, 16), (31, 21), (31, 22), (31, 30)]\n"
     ]
    }
   ],
   "source": [
    "with open('input.yaml', 'r') as param_file:\n",
    "    try:\n",
    "        param = yaml.load(param_file, Loader=yaml.FullLoader)['map']\n",
    "#         print(json.dumps(param, sort_keys=True, indent=4))\n",
    "    except yaml.YAMLError as exc:\n",
    "        print(exc)\n",
    "\n",
    "        \n",
    "for obstacle_name, pos in param.items():\n",
    "    print(obstacle_name)\n",
    "    print(pos)\n",
    "        "
   ]
  },
  {
   "cell_type": "code",
   "execution_count": 56,
   "metadata": {},
   "outputs": [
    {
     "ename": "Full",
     "evalue": "",
     "output_type": "error",
     "traceback": [
      "\u001b[0;31m---------------------------------------------------------------------------\u001b[0m",
      "\u001b[0;31mFull\u001b[0m                                      Traceback (most recent call last)",
      "\u001b[0;32m<ipython-input-56-f739c915cb78>\u001b[0m in \u001b[0;36m<module>\u001b[0;34m\u001b[0m\n\u001b[1;32m      3\u001b[0m \u001b[0mq\u001b[0m\u001b[0;34m.\u001b[0m\u001b[0mput\u001b[0m\u001b[0;34m(\u001b[0m\u001b[0;36m1\u001b[0m\u001b[0;34m,\u001b[0m \u001b[0mblock\u001b[0m\u001b[0;34m=\u001b[0m\u001b[0;32mTrue\u001b[0m\u001b[0;34m,\u001b[0m \u001b[0mtimeout\u001b[0m\u001b[0;34m=\u001b[0m\u001b[0;36m0\u001b[0m\u001b[0;34m)\u001b[0m\u001b[0;34m\u001b[0m\u001b[0;34m\u001b[0m\u001b[0m\n\u001b[1;32m      4\u001b[0m \u001b[0;31m# print(q.get())\u001b[0m\u001b[0;34m\u001b[0m\u001b[0;34m\u001b[0m\u001b[0;34m\u001b[0m\u001b[0m\n\u001b[0;32m----> 5\u001b[0;31m \u001b[0mq\u001b[0m\u001b[0;34m.\u001b[0m\u001b[0mput\u001b[0m\u001b[0;34m(\u001b[0m\u001b[0;36m2\u001b[0m\u001b[0;34m,\u001b[0m \u001b[0mblock\u001b[0m\u001b[0;34m=\u001b[0m\u001b[0;32mTrue\u001b[0m\u001b[0;34m,\u001b[0m \u001b[0mtimeout\u001b[0m\u001b[0;34m=\u001b[0m\u001b[0;36m0\u001b[0m\u001b[0;34m)\u001b[0m\u001b[0;34m\u001b[0m\u001b[0;34m\u001b[0m\u001b[0m\n\u001b[0m\u001b[1;32m      6\u001b[0m \u001b[0mprint\u001b[0m\u001b[0;34m(\u001b[0m\u001b[0mq\u001b[0m\u001b[0;34m.\u001b[0m\u001b[0mget\u001b[0m\u001b[0;34m(\u001b[0m\u001b[0;34m)\u001b[0m\u001b[0;34m)\u001b[0m\u001b[0;34m\u001b[0m\u001b[0;34m\u001b[0m\u001b[0m\n",
      "\u001b[0;32m~/opt/anaconda3/lib/python3.8/queue.py\u001b[0m in \u001b[0;36mput\u001b[0;34m(self, item, block, timeout)\u001b[0m\n\u001b[1;32m    145\u001b[0m                         \u001b[0mremaining\u001b[0m \u001b[0;34m=\u001b[0m \u001b[0mendtime\u001b[0m \u001b[0;34m-\u001b[0m \u001b[0mtime\u001b[0m\u001b[0;34m(\u001b[0m\u001b[0;34m)\u001b[0m\u001b[0;34m\u001b[0m\u001b[0;34m\u001b[0m\u001b[0m\n\u001b[1;32m    146\u001b[0m                         \u001b[0;32mif\u001b[0m \u001b[0mremaining\u001b[0m \u001b[0;34m<=\u001b[0m \u001b[0;36m0.0\u001b[0m\u001b[0;34m:\u001b[0m\u001b[0;34m\u001b[0m\u001b[0;34m\u001b[0m\u001b[0m\n\u001b[0;32m--> 147\u001b[0;31m                             \u001b[0;32mraise\u001b[0m \u001b[0mFull\u001b[0m\u001b[0;34m\u001b[0m\u001b[0;34m\u001b[0m\u001b[0m\n\u001b[0m\u001b[1;32m    148\u001b[0m                         \u001b[0mself\u001b[0m\u001b[0;34m.\u001b[0m\u001b[0mnot_full\u001b[0m\u001b[0;34m.\u001b[0m\u001b[0mwait\u001b[0m\u001b[0;34m(\u001b[0m\u001b[0mremaining\u001b[0m\u001b[0;34m)\u001b[0m\u001b[0;34m\u001b[0m\u001b[0;34m\u001b[0m\u001b[0m\n\u001b[1;32m    149\u001b[0m             \u001b[0mself\u001b[0m\u001b[0;34m.\u001b[0m\u001b[0m_put\u001b[0m\u001b[0;34m(\u001b[0m\u001b[0mitem\u001b[0m\u001b[0;34m)\u001b[0m\u001b[0;34m\u001b[0m\u001b[0;34m\u001b[0m\u001b[0m\n",
      "\u001b[0;31mFull\u001b[0m: "
     ]
    }
   ],
   "source": [
    "from queue import Queue\n",
    "q = Queue(maxsize=1)\n",
    "q.put(1, block=True, timeout=0)\n",
    "# print(q.get())\n",
    "q.put(2, block=True, timeout=0)\n",
    "print(q.get())"
   ]
  },
  {
   "cell_type": "code",
   "execution_count": 49,
   "metadata": {},
   "outputs": [
    {
     "data": {
      "text/plain": [
       "True"
      ]
     },
     "execution_count": 49,
     "metadata": {},
     "output_type": "execute_result"
    }
   ],
   "source": [
    "from queue import PriorityQueue\n",
    "\n",
    "pq = PriorityQueue()\n",
    "pq.put((1, [2, 3]))\n",
    "pq.empty()\n",
    "pq.get()\n",
    "pq.empty()"
   ]
  },
  {
   "cell_type": "code",
   "execution_count": 41,
   "metadata": {},
   "outputs": [
    {
     "name": "stdout",
     "output_type": "stream",
     "text": [
      "3684608\n",
      "0.09603691101074219\n",
      "Real usage time: 2.0060129165649414\n"
     ]
    }
   ],
   "source": [
    "import time\n",
    "N = 2\n",
    "r_s = time.time()\n",
    "def fixed_time():\n",
    "    s = time.time()\n",
    "    l = int(random.random() * 100000000)\n",
    "    print(l)\n",
    "    for i in range(l):\n",
    "        a = 1 + 1\n",
    "    e = time.time()\n",
    "    use = e - s\n",
    "    time.sleep(N - use)\n",
    "    print(use)\n",
    "fixed_time()\n",
    "r_e = time.time()\n",
    "print('Real usage time:', r_e - r_s)"
   ]
  },
  {
   "cell_type": "code",
   "execution_count": null,
   "metadata": {},
   "outputs": [
    {
     "name": "stdout",
     "output_type": "stream",
     "text": [
      "use time:  3.0041449069976807\n",
      "over\n"
     ]
    }
   ],
   "source": [
    "import requests\n",
    "import eventlet\n",
    "import time\n",
    " \n",
    "eventlet.monkey_patch()\n",
    " \n",
    "time_limit = 3  #set timeout time 3s\n",
    "start = time.time()\n",
    "with eventlet.Timeout(time_limit,False):\n",
    "    time.sleep(5)\n",
    "#     r=requests.get(\"https://me.csdn.net/dcrmg\", verify=False)\n",
    "    print('error')\n",
    "end = time.time()\n",
    "print('use time: ', end - start)\n",
    "print('over')"
   ]
  },
  {
   "cell_type": "code",
   "execution_count": null,
   "metadata": {},
   "outputs": [
    {
     "name": "stdout",
     "output_type": "stream",
     "text": [
      "1\n",
      "2\n",
      "4\n"
     ]
    }
   ],
   "source": [
    "import eventlet\n",
    "import time\n",
    "eventlet.monkey_patch()\n",
    "with eventlet.Timeout(2,False):\n",
    "    print(1)\n",
    "    time.sleep(1.5)\n",
    "    print(2)\n",
    "    time.sleep(1)\n",
    "    print(3)\n",
    "print(4)\n"
   ]
  },
  {
   "cell_type": "code",
   "execution_count": 5,
   "metadata": {},
   "outputs": [
    {
     "ename": "SyntaxError",
     "evalue": "invalid syntax (<ipython-input-5-9f66f7a6c073>, line 7)",
     "output_type": "error",
     "traceback": [
      "\u001b[0;36m  File \u001b[0;32m\"<ipython-input-5-9f66f7a6c073>\"\u001b[0;36m, line \u001b[0;32m7\u001b[0m\n\u001b[0;31m    {q:(temp_dict[q] if temp_dict[q] <= 35) for i in q}\u001b[0m\n\u001b[0m                                          ^\u001b[0m\n\u001b[0;31mSyntaxError\u001b[0m\u001b[0;31m:\u001b[0m invalid syntax\n"
     ]
    }
   ],
   "source": [
    "temp_dict = {'111': 23, '23': 123, '1': 1}\n",
    "current_idx = min(temp_dict, key=temp_dict.get)\n",
    "\n",
    "# Focal part\n",
    "f_min = temp_dict[current_idx]\n",
    "q = temp_dict.keys()\n",
    "{q:(temp_dict[q] if temp_dict[q] <= 35) for i in q}"
   ]
  },
  {
   "cell_type": "code",
   "execution_count": 33,
   "metadata": {},
   "outputs": [
    {
     "data": {
      "text/plain": [
       "(3, 5)"
      ]
     },
     "execution_count": 33,
     "metadata": {},
     "output_type": "execute_result"
    }
   ],
   "source": [
    "a = {(1, 2): 2, (4, 6): 4, (3, 5): 1}\n",
    "b = {}\n",
    "len(b.keys())\n",
    "(1, 3) in a.keys()\n",
    "min(a, key=a.get)"
   ]
  },
  {
   "cell_type": "code",
   "execution_count": 27,
   "metadata": {},
   "outputs": [
    {
     "data": {
      "text/plain": [
       "[3, 2, 99, 4, 5, 101]"
      ]
     },
     "execution_count": 27,
     "metadata": {},
     "output_type": "execute_result"
    }
   ],
   "source": [
    "a = [3, 2, 4, 5]\n",
    "a.insert(2, 99)\n",
    "a.append(101)\n",
    "a"
   ]
  },
  {
   "cell_type": "code",
   "execution_count": 5,
   "metadata": {},
   "outputs": [
    {
     "name": "stdout",
     "output_type": "stream",
     "text": [
      "Timed out!\n",
      "SPAN:  10.002815008163452\n"
     ]
    }
   ],
   "source": [
    "import time\n",
    "import signal\n",
    "from contextlib import contextmanager\n",
    "\n",
    "class TimeoutException(Exception): pass\n",
    "\n",
    "@contextmanager\n",
    "def time_limit(seconds):\n",
    "    def signal_handler(signum, frame):\n",
    "        raise TimeoutException(\"Timed out!\")\n",
    "    signal.signal(signal.SIGALRM, signal_handler)\n",
    "    signal.alarm(seconds)\n",
    "    try:\n",
    "        yield\n",
    "    finally:\n",
    "        signal.alarm(0)\n",
    "\n",
    "start = time.time()\n",
    "try:\n",
    "    with time_limit(10):\n",
    "        time.sleep(20)\n",
    "except TimeoutException as e:\n",
    "    print(\"Timed out!\")\n",
    "end = time.time()\n",
    "print(\"SPAN: \", end - start)"
   ]
  },
  {
   "cell_type": "code",
   "execution_count": 7,
   "metadata": {},
   "outputs": [
    {
     "name": "stdout",
     "output_type": "stream",
     "text": [
      "1\n"
     ]
    }
   ],
   "source": [
    "if \"TIME\":\n",
    "    print('1')"
   ]
  },
  {
   "cell_type": "code",
   "execution_count": 11,
   "metadata": {},
   "outputs": [
    {
     "name": "stdout",
     "output_type": "stream",
     "text": [
      "2\n",
      "12\n"
     ]
    }
   ],
   "source": [
    "from copy import deepcopy\n",
    "class A:\n",
    "    def __init__(self):\n",
    "        self.x = 1\n",
    "    \n",
    "a = A()\n",
    "b = deepcopy(a)\n",
    "b.x = 12\n",
    "a.x = 2\n",
    "print(a.x)\n",
    "print(b.x)"
   ]
  },
  {
   "cell_type": "code",
   "execution_count": 24,
   "metadata": {},
   "outputs": [
    {
     "data": {
      "text/plain": [
       "True"
      ]
     },
     "execution_count": 24,
     "metadata": {},
     "output_type": "execute_result"
    }
   ],
   "source": [
    "class Location(object):\n",
    "    def __init__(self, x=-1, y=-1):\n",
    "        self.x = x\n",
    "        self.y = y\n",
    "    def __eq__(self, other):\n",
    "        return self.x == other.x and self.y == other.y\n",
    "    def __str__(self):\n",
    "        return str((self.x, self.y))\n",
    "\n",
    "class State(object):\n",
    "    def __init__(self, time, location):\n",
    "        self.time = time\n",
    "        self.location = location\n",
    "    def __eq__(self, other):\n",
    "        return self.time == other.time and self.location == other.location\n",
    "    def __hash__(self):\n",
    "        return hash(str(self.time)+str(self.location.x) + str(self.location.y))\n",
    "    def is_equal_except_time(self, state):\n",
    "        return self.location == state.location\n",
    "    def __str__(self):\n",
    "        return str((self.time, self.location.x, self.location.y))\n",
    "l = Location()\n",
    "s = State(1, l)\n",
    "type(s).__name__ == 'State'\n",
    "# str(type(s)) == \"<class '__main__.State'>\""
   ]
  },
  {
   "cell_type": "code",
   "execution_count": 35,
   "metadata": {},
   "outputs": [
    {
     "data": {
      "text/plain": [
       "2"
      ]
     },
     "execution_count": 35,
     "metadata": {},
     "output_type": "execute_result"
    }
   ],
   "source": [
    "import torch.nn as nn\n",
    "import torchvision.models as models\n",
    "import torch\n",
    "\n",
    "class MultiTaskModel(nn.Module):\n",
    "\n",
    "    def __init__(self):\n",
    "        super(MultiTaskModel, self).__init__()\n",
    "        self.model = models.resnet50(num_classes=1, pretrained=False)\n",
    "        \n",
    "        self.share = nn.Sequential(*(list(self.model.children())[:-3]))\n",
    "        self.mr = nn.Sequential(*(list(self.model.children())[-3:-1]))\n",
    "        self.ct = nn.Sequential(*(list(self.model.children())[-3:-1]))\n",
    "        self.mr_lr = nn.Linear(2048, 1)\n",
    "        self.ct_lr = nn.Linear(2048, 1)\n",
    "        \n",
    "#         self.mr = nn.Sequential()\n",
    "#         self.ct = nn.Sequential()\n",
    "        \n",
    "#         self.mr.add_module('mr_resnet', *(list(model.children())[-3:-2]))\n",
    "# #         self.mr.add_module('mr_pool', nn.AdaptiveAvgPool2d(output_size=(1, 1)))\n",
    "#         self.mr.add_module('mr_lr', nn.Linear(4096, 1))\n",
    "        \n",
    "#         self.ct.add_module('ct_resnet', *(list(model.children())[-3:-2]))\n",
    "# #         self.ct.add_module('ct_pool', nn.AdaptiveAvgPool2d(output_size=(1, 1)))\n",
    "#         self.ct.add_module('ct_lr', nn.Linear(4096, 1))\n",
    "\n",
    "    def forward(self, input_data_mr, input_data_ct):\n",
    "        shared_data_mr = self.share(input_data_mr)    \n",
    "        \n",
    "        mr_output = self.mr_lr(self.mr(shared_data_mr).view(shared_data_mr.size()[0], -1))\n",
    "        \n",
    "        shared_data_ct = self.share(input_data_ct)\n",
    "\n",
    "        ct_output = self.ct_lr(self.ct(shared_data_ct).view(shared_data_ct.size()[0], -1))\n",
    "        \n",
    "        return mr_output, ct_output\n",
    "\n",
    "m = MultiTaskModel()\n",
    "mr = torch.randn(5, 3, 256, 256)\n",
    "ct = torch.randn(5, 3, 256, 256)\n",
    "o = m(mr, ct)\n",
    "len(o)"
   ]
  },
  {
   "cell_type": "code",
   "execution_count": 36,
   "metadata": {},
   "outputs": [
    {
     "data": {
      "text/plain": [
       "torch.Size([5, 1])"
      ]
     },
     "execution_count": 36,
     "metadata": {},
     "output_type": "execute_result"
    }
   ],
   "source": [
    "o[0].size()"
   ]
  },
  {
   "cell_type": "code",
   "execution_count": null,
   "metadata": {},
   "outputs": [],
   "source": []
  }
 ],
 "metadata": {
  "kernelspec": {
   "display_name": "Python 3",
   "language": "python",
   "name": "python3"
  },
  "language_info": {
   "codemirror_mode": {
    "name": "ipython",
    "version": 3
   },
   "file_extension": ".py",
   "mimetype": "text/x-python",
   "name": "python",
   "nbconvert_exporter": "python",
   "pygments_lexer": "ipython3",
   "version": "3.8.3"
  }
 },
 "nbformat": 4,
 "nbformat_minor": 4
}
