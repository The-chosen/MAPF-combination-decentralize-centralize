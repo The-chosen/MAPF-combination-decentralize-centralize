{
 "cells": [
  {
   "cell_type": "code",
   "execution_count": 1,
   "metadata": {},
   "outputs": [],
   "source": [
    "import os\n",
    "import yaml"
   ]
  },
  {
   "cell_type": "code",
   "execution_count": 2,
   "metadata": {},
   "outputs": [],
   "source": [
    "input_pth = './inputs/input_10%_10agents.yaml'\n",
    "output_pth = './outputs/output_10%_10agents.yaml'\n",
    "dy_obs_pth = './dy_obstacles/dynamic__10%_10agents.yaml'\n",
    "\n",
    "input_pth = 'inputs/expe/input_20ag_20dy_5%sta_seed1.yaml'\n",
    "output_pth = './outputs/expe/output_20ag_20dy_5%sta_seed1.yaml'\n",
    "dy_obs_pth = 'dy_obstacles/expe/dy_20ag_20dy_5%sta_seed1.yaml'\n",
    "\n",
    "input_pth = 'inputs/expe/input_50ag_100dy_5%sta_seed1.yaml'\n",
    "output_pth = './outputs/expe/output_50ag_100dy_5%sta_seed1_3s.yaml'\n",
    "dy_obs_pth = 'dy_obstacles/expe/dy_50ag_100dy_5%sta_seed1.yaml'\n"
   ]
  },
  {
   "cell_type": "code",
   "execution_count": 3,
   "metadata": {},
   "outputs": [],
   "source": [
    "with open(input_pth, 'r') as file:\n",
    "    try:\n",
    "        input_file = yaml.load(file, Loader=yaml.FullLoader)\n",
    "    except yaml.YAMLError as exc:\n",
    "        print(exc)\n",
    "\n",
    "with open(output_pth, 'r') as file:\n",
    "    try:\n",
    "        output_file = yaml.load(file, Loader=yaml.FullLoader)\n",
    "    except yaml.YAMLError as exc:\n",
    "        print(exc)\n",
    "\n",
    "with open(dy_obs_pth, 'r') as file:\n",
    "    try:\n",
    "        dy_obs_file = yaml.load(file, Loader=yaml.FullLoader)\n",
    "    except yaml.YAMLError as exc:\n",
    "        print(exc)"
   ]
  },
  {
   "cell_type": "code",
   "execution_count": 4,
   "metadata": {},
   "outputs": [],
   "source": [
    "output_points = []\n",
    "for agent in output_file['schedule'].keys():\n",
    "    for point in output_file['schedule'][agent]:\n",
    "        output_points.append(point)\n",
    "\n",
    "dy_obs_points = []\n",
    "for agent in dy_obs_file['schedule'].keys():\n",
    "    for point in dy_obs_file['schedule'][agent]:\n",
    "        dy_obs_points.append(point)\n"
   ]
  },
  {
   "cell_type": "code",
   "execution_count": 5,
   "metadata": {},
   "outputs": [
    {
     "name": "stdout",
     "output_type": "stream",
     "text": [
      "{'t': 22, 'x': 40, 'y': 32}\n",
      "{'t': 27, 'x': 38, 'y': 22}\n",
      "{'t': 23, 'x': 24, 'y': 42}\n",
      "{'t': 13, 'x': 25, 'y': 10}\n",
      "{'t': 28, 'x': 25, 'y': 25}\n",
      "{'t': 9, 'x': 34, 'y': 57}\n",
      "{'t': 4, 'x': 7, 'y': 8}\n",
      "{'t': 17, 'x': 24, 'y': 21}\n",
      "{'t': 37, 'x': 24, 'y': 41}\n",
      "{'t': 4, 'x': 46, 'y': 56}\n",
      "{'t': 5, 'x': 45, 'y': 56}\n",
      "{'t': 21, 'x': 32, 'y': 57}\n",
      "{'t': 5, 'x': 62, 'y': 42}\n",
      "{'t': 6, 'x': 62, 'y': 43}\n",
      "{'t': 29, 'x': 25, 'y': 42}\n",
      "{'t': 20, 'x': 23, 'y': 42}\n",
      "{'t': 25, 'x': 18, 'y': 27}\n",
      "{'t': 37, 'x': 18, 'y': 39}\n",
      "{'t': 4, 'x': 30, 'y': 29}\n",
      "{'t': 14, 'x': 8, 'y': 27}\n",
      "{'t': 42, 'x': 23, 'y': 20}\n",
      "{'t': 26, 'x': 43, 'y': 43}\n",
      "{'t': 42, 'x': 53, 'y': 37}\n",
      "{'t': 21, 'x': 54, 'y': 12}\n",
      "{'t': 6, 'x': 33, 'y': 55}\n",
      "{'t': 36, 'x': 58, 'y': 50}\n",
      "{'t': 39, 'x': 58, 'y': 47}\n",
      "Collision Number:  27\n"
     ]
    }
   ],
   "source": [
    "collision_num = 0\n",
    "for out_pt in output_points:\n",
    "    for dy_pt in dy_obs_points:\n",
    "        if out_pt == dy_pt:\n",
    "            print(out_pt)\n",
    "            collision_num += 1\n",
    "print('Collision Number: ', collision_num)"
   ]
  },
  {
   "cell_type": "markdown",
   "metadata": {},
   "source": [
    "cbs:28"
   ]
  },
  {
   "cell_type": "code",
   "execution_count": 19,
   "metadata": {},
   "outputs": [],
   "source": [
    "class A:\n",
    "    def __init__(self, x):\n",
    "        self.x = x"
   ]
  },
  {
   "cell_type": "code",
   "execution_count": 1,
   "metadata": {},
   "outputs": [],
   "source": [
    "import yaml\n",
    "with open('outputs/expe/output_20ag_20dy_5%sta_seed1_3s.yaml', 'r') as input_:\n",
    "    try:\n",
    "        input_file = yaml.load(input_, Loader=yaml.FullLoader)\n",
    "    except yaml.YAMLError as exc:\n",
    "        print(exc)"
   ]
  },
  {
   "cell_type": "code",
   "execution_count": 4,
   "metadata": {},
   "outputs": [
    {
     "data": {
      "text/plain": [
       "[{'t': 0, 'x': 8, 'y': 4},\n",
       " {'t': 1, 'x': 9, 'y': 4},\n",
       " {'t': 2, 'x': 9, 'y': 5},\n",
       " {'t': 3, 'x': 9, 'y': 6},\n",
       " {'t': 4, 'x': 9, 'y': 7},\n",
       " {'t': 5, 'x': 10, 'y': 7},\n",
       " {'t': 6, 'x': 11, 'y': 7},\n",
       " {'t': 7, 'x': 12, 'y': 7},\n",
       " {'t': 8, 'x': 13, 'y': 7},\n",
       " {'t': 9, 'x': 14, 'y': 7},\n",
       " {'t': 10, 'x': 15, 'y': 7},\n",
       " {'t': 11, 'x': 16, 'y': 7},\n",
       " {'t': 15, 'x': 16, 'y': 7},\n",
       " {'t': 15, 'x': 16, 'y': 7},\n",
       " {'t': 16, 'x': 16, 'y': 7},\n",
       " {'t': 19, 'x': 16, 'y': 7},\n",
       " {'t': 20, 'x': 16, 'y': 7},\n",
       " {'t': 21, 'x': 16, 'y': 7},\n",
       " {'t': 22, 'x': 16, 'y': 7},\n",
       " {'t': 21, 'x': 16, 'y': 7},\n",
       " {'t': 20, 'x': 16, 'y': 7}]"
      ]
     },
     "execution_count": 4,
     "metadata": {},
     "output_type": "execute_result"
    }
   ],
   "source": [
    "input_file['schedule']['agent0']"
   ]
  },
  {
   "cell_type": "code",
   "execution_count": 7,
   "metadata": {},
   "outputs": [],
   "source": [
    "a = {'a': [{'a': 1}, {'a': 1}, {'a': 1}], 'b': [{'a': 1}]}\n",
    "for k in a.keys():\n",
    "    for i in a[k]:\n",
    "        i['l'] = 2"
   ]
  },
  {
   "cell_type": "code",
   "execution_count": 19,
   "metadata": {},
   "outputs": [],
   "source": [
    "class A:\n",
    "    def __init__(self):\n",
    "        global cool\n",
    "        self.cool = cool\n",
    "\n",
    "class B:\n",
    "    def __init__(self):\n",
    "        global cool\n",
    "        self.cool = cool\n",
    "        \n",
    "    def set_cool(self):\n",
    "        global cool\n",
    "        print(\"1111: \", cool)\n",
    "        cool += 1\n",
    "        print(\"2222: \", cool)"
   ]
  },
  {
   "cell_type": "code",
   "execution_count": 21,
   "metadata": {},
   "outputs": [
    {
     "name": "stdout",
     "output_type": "stream",
     "text": [
      "10\n",
      "1111:  10\n",
      "2222:  11\n",
      "10\n",
      "11\n"
     ]
    }
   ],
   "source": [
    "global cool\n",
    "cool = 10\n",
    "a = A()\n",
    "b = B()\n",
    "print(b.cool)\n",
    "b.set_cool()\n",
    "print(a.cool)\n",
    "print(cool)\n"
   ]
  },
  {
   "cell_type": "code",
   "execution_count": null,
   "metadata": {},
   "outputs": [],
   "source": []
  }
 ],
 "metadata": {
  "kernelspec": {
   "display_name": "Python 3",
   "language": "python",
   "name": "python3"
  },
  "language_info": {
   "codemirror_mode": {
    "name": "ipython",
    "version": 3
   },
   "file_extension": ".py",
   "mimetype": "text/x-python",
   "name": "python",
   "nbconvert_exporter": "python",
   "pygments_lexer": "ipython3",
   "version": "3.8.3"
  }
 },
 "nbformat": 4,
 "nbformat_minor": 4
}
