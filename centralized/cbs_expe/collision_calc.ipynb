{
 "cells": [
  {
   "cell_type": "code",
   "execution_count": 4,
   "metadata": {},
   "outputs": [],
   "source": [
    "import os\n",
    "import yaml"
   ]
  },
  {
   "cell_type": "code",
   "execution_count": 38,
   "metadata": {},
   "outputs": [],
   "source": [
    "input_pth = './inputs/input_10%_10agents.yaml'\n",
    "output_pth = './outputs/output_10%_10agents.yaml'\n",
    "dy_obs_pth = './dy_obstacles/dynamic__10%_10agents.yaml'\n",
    "\n",
    "input_pth = 'inputs/expe/input_20ag_20dy_5%sta_seed1.yaml'\n",
    "output_pth = './outputs/expe/output_20ag_20dy_5%sta_seed1.yaml'\n",
    "dy_obs_pth = 'dy_obstacles/expe/dy_20ag_20dy_5%sta_seed1.yaml'\n",
    "\n",
    "input_pth = 'inputs/expe/input_50ag_100dy_5%sta_seed1.yaml'\n",
    "output_pth = './outputs/expe/output_50ag_100dy_5%sta_seed1_3s.yaml'\n",
    "dy_obs_pth = 'dy_obstacles/expe/dy_50ag_100dy_5%sta_seed1.yaml'\n"
   ]
  },
  {
   "cell_type": "code",
   "execution_count": 39,
   "metadata": {},
   "outputs": [],
   "source": [
    "with open(input_pth, 'r') as file:\n",
    "    try:\n",
    "        input_file = yaml.load(file, Loader=yaml.FullLoader)\n",
    "    except yaml.YAMLError as exc:\n",
    "        print(exc)\n",
    "\n",
    "with open(output_pth, 'r') as file:\n",
    "    try:\n",
    "        output_file = yaml.load(file, Loader=yaml.FullLoader)\n",
    "    except yaml.YAMLError as exc:\n",
    "        print(exc)\n",
    "\n",
    "with open(dy_obs_pth, 'r') as file:\n",
    "    try:\n",
    "        dy_obs_file = yaml.load(file, Loader=yaml.FullLoader)\n",
    "    except yaml.YAMLError as exc:\n",
    "        print(exc)"
   ]
  },
  {
   "cell_type": "code",
   "execution_count": 40,
   "metadata": {},
   "outputs": [],
   "source": [
    "output_points = []\n",
    "for agent in output_file['schedule'].keys():\n",
    "    for point in output_file['schedule'][agent]:\n",
    "        output_points.append(point)\n",
    "\n",
    "dy_obs_points = []\n",
    "for agent in dy_obs_file['schedule'].keys():\n",
    "    for point in dy_obs_file['schedule'][agent]:\n",
    "        dy_obs_points.append(point)\n"
   ]
  },
  {
   "cell_type": "code",
   "execution_count": 41,
   "metadata": {},
   "outputs": [
    {
     "name": "stdout",
     "output_type": "stream",
     "text": [
      "{'t': 22, 'x': 40, 'y': 32}\n",
      "{'t': 46, 'x': 19, 'y': 52}\n",
      "{'t': 27, 'x': 38, 'y': 22}\n",
      "{'t': 23, 'x': 24, 'y': 42}\n",
      "{'t': 13, 'x': 25, 'y': 10}\n",
      "{'t': 28, 'x': 25, 'y': 25}\n",
      "{'t': 9, 'x': 34, 'y': 57}\n",
      "{'t': 37, 'x': 6, 'y': 57}\n",
      "{'t': 4, 'x': 7, 'y': 8}\n",
      "{'t': 5, 'x': 52, 'y': 1}\n",
      "{'t': 18, 'x': 40, 'y': 2}\n",
      "{'t': 19, 'x': 39, 'y': 2}\n",
      "{'t': 17, 'x': 24, 'y': 21}\n",
      "{'t': 37, 'x': 24, 'y': 41}\n",
      "{'t': 38, 'x': 23, 'y': 41}\n",
      "{'t': 4, 'x': 46, 'y': 56}\n",
      "{'t': 5, 'x': 45, 'y': 56}\n",
      "{'t': 21, 'x': 32, 'y': 57}\n",
      "{'t': 5, 'x': 62, 'y': 42}\n",
      "{'t': 6, 'x': 62, 'y': 43}\n",
      "{'t': 29, 'x': 25, 'y': 42}\n",
      "{'t': 20, 'x': 23, 'y': 42}\n",
      "{'t': 25, 'x': 18, 'y': 27}\n",
      "{'t': 37, 'x': 18, 'y': 39}\n",
      "{'t': 4, 'x': 30, 'y': 29}\n",
      "{'t': 14, 'x': 8, 'y': 27}\n",
      "{'t': 26, 'x': 43, 'y': 43}\n",
      "{'t': 21, 'x': 54, 'y': 12}\n",
      "{'t': 6, 'x': 33, 'y': 55}\n",
      "Collision Number:  29\n"
     ]
    }
   ],
   "source": [
    "collision_num = 0\n",
    "for out_pt in output_points:\n",
    "    for dy_pt in dy_obs_points:\n",
    "        if out_pt == dy_pt:\n",
    "            print(out_pt)\n",
    "            collision_num += 1\n",
    "print('Collision Number: ', collision_num)"
   ]
  },
  {
   "cell_type": "markdown",
   "metadata": {},
   "source": [
    "cbs:28"
   ]
  },
  {
   "cell_type": "code",
   "execution_count": 19,
   "metadata": {},
   "outputs": [],
   "source": [
    "class A:\n",
    "    def __init__(self, x):\n",
    "        self.x = x"
   ]
  },
  {
   "cell_type": "code",
   "execution_count": 23,
   "metadata": {},
   "outputs": [
    {
     "data": {
      "text/plain": [
       "[<__main__.A at 0x7f561bb02070>,\n",
       " <__main__.A at 0x7f561bb02e50>,\n",
       " <__main__.A at 0x7f561bb02610>]"
      ]
     },
     "execution_count": 23,
     "metadata": {},
     "output_type": "execute_result"
    }
   ],
   "source": [
    "a1 = A(10)\n",
    "a2 = A(2)\n",
    "a3 = A(3)\n",
    "ls = [a1, a2, a3]\n",
    "ls_ = sorted(ls, key=lambda x: x.x)\n",
    "ls_"
   ]
  },
  {
   "cell_type": "code",
   "execution_count": 2,
   "metadata": {},
   "outputs": [
    {
     "data": {
      "text/plain": [
       "1603282671.4752505"
      ]
     },
     "execution_count": 2,
     "metadata": {},
     "output_type": "execute_result"
    }
   ],
   "source": [
    "import time\n",
    "a = time.time()\n",
    "a"
   ]
  },
  {
   "cell_type": "code",
   "execution_count": 10,
   "metadata": {},
   "outputs": [
    {
     "data": {
      "text/plain": [
       "19.435779333114624"
      ]
     },
     "execution_count": 10,
     "metadata": {},
     "output_type": "execute_result"
    }
   ],
   "source": [
    "b = time.time()\n",
    "b - a"
   ]
  },
  {
   "cell_type": "code",
   "execution_count": null,
   "metadata": {},
   "outputs": [],
   "source": []
  }
 ],
 "metadata": {
  "kernelspec": {
   "display_name": "Python 3",
   "language": "python",
   "name": "python3"
  },
  "language_info": {
   "codemirror_mode": {
    "name": "ipython",
    "version": 3
   },
   "file_extension": ".py",
   "mimetype": "text/x-python",
   "name": "python",
   "nbconvert_exporter": "python",
   "pygments_lexer": "ipython3",
   "version": "3.8.3"
  }
 },
 "nbformat": 4,
 "nbformat_minor": 4
}
