{
 "cells": [
  {
   "cell_type": "code",
   "execution_count": 50,
   "metadata": {},
   "outputs": [],
   "source": [
    "import os\n",
    "import yaml"
   ]
  },
  {
   "cell_type": "code",
   "execution_count": 59,
   "metadata": {},
   "outputs": [],
   "source": [
    "input_pth = './inputs/input_10%_10agents.yaml'\n",
    "output_pth = './outputs/output_10%_10agents.yaml'\n",
    "dy_obs_pth = './dy_obstacles/dynamic__10%_10agents.yaml'\n",
    "\n",
    "input_pth = './inputs/input_v2.yaml'\n",
    "output_pth = './outputs/output_tmp.yaml'\n",
    "dy_obs_pth = './dy_obstacles/dynamic_obstacle_pth.yaml'"
   ]
  },
  {
   "cell_type": "code",
   "execution_count": 60,
   "metadata": {},
   "outputs": [],
   "source": [
    "with open(input_pth, 'r') as file:\n",
    "    try:\n",
    "        input_file = yaml.load(file, Loader=yaml.FullLoader)\n",
    "    except yaml.YAMLError as exc:\n",
    "        print(exc)\n",
    "\n",
    "with open(output_pth, 'r') as file:\n",
    "    try:\n",
    "        output_file = yaml.load(file, Loader=yaml.FullLoader)\n",
    "    except yaml.YAMLError as exc:\n",
    "        print(exc)\n",
    "\n",
    "with open(dy_obs_pth, 'r') as file:\n",
    "    try:\n",
    "        dy_obs_file = yaml.load(file, Loader=yaml.FullLoader)\n",
    "    except yaml.YAMLError as exc:\n",
    "        print(exc)"
   ]
  },
  {
   "cell_type": "code",
   "execution_count": 61,
   "metadata": {},
   "outputs": [],
   "source": [
    "output_points = []\n",
    "for agent in output_file['schedule'].keys():\n",
    "    for point in output_file['schedule'][agent]:\n",
    "        output_points.append(point)\n",
    "\n",
    "dy_obs_points = []\n",
    "for agent in dy_obs_file['schedule'].keys():\n",
    "    for point in dy_obs_file['schedule'][agent]:\n",
    "        dy_obs_points.append(point)\n"
   ]
  },
  {
   "cell_type": "code",
   "execution_count": 62,
   "metadata": {},
   "outputs": [
    {
     "name": "stdout",
     "output_type": "stream",
     "text": [
      "{'t': 2, 'x': 28, 'y': 17}\n",
      "{'t': 2, 'x': 18, 'y': 22}\n",
      "Collision Number:  2\n"
     ]
    }
   ],
   "source": [
    "collision_num = 0\n",
    "for out_pt in output_points:\n",
    "    for dy_pt in dy_obs_points:\n",
    "        if out_pt == dy_pt:\n",
    "            print(out_pt)\n",
    "            collision_num += 1\n",
    "print('Collision Number: ', collision_num)"
   ]
  },
  {
   "cell_type": "code",
   "execution_count": null,
   "metadata": {},
   "outputs": [],
   "source": []
  },
  {
   "cell_type": "code",
   "execution_count": null,
   "metadata": {},
   "outputs": [],
   "source": []
  }
 ],
 "metadata": {
  "kernelspec": {
   "display_name": "Python 3",
   "language": "python",
   "name": "python3"
  },
  "language_info": {
   "codemirror_mode": {
    "name": "ipython",
    "version": 3
   },
   "file_extension": ".py",
   "mimetype": "text/x-python",
   "name": "python",
   "nbconvert_exporter": "python",
   "pygments_lexer": "ipython3",
   "version": "3.8.3"
  }
 },
 "nbformat": 4,
 "nbformat_minor": 4
}
