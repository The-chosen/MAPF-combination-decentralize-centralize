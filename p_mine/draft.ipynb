{
 "cells": [
  {
   "cell_type": "code",
   "execution_count": 1,
   "metadata": {},
   "outputs": [],
   "source": [
    "import os\n",
    "import yaml"
   ]
  },
  {
   "cell_type": "code",
   "execution_count": 20,
   "metadata": {},
   "outputs": [
    {
     "data": {
      "text/plain": [
       "{'agents': [{'goal': [1, 4], 'name': 'agent0', 'start': [2, 9]},\n",
       "  {'goal': [7, 7], 'name': 'agent1', 'start': [1, 7]},\n",
       "  {'goal': [3, 1], 'name': 'agent2', 'start': [10, 6]},\n",
       "  {'goal': [6, 6], 'name': 'agent3', 'start': [7, 0]}],\n",
       " 'map': {'dimensions': [20, 12], 'obstacles': [[100, 100], [5.0, 3.0]]},\n",
       " 'obstacles': [{'goal': [26, 17], 'name': 'obstacle0', 'start': [0, 0]}]}"
      ]
     },
     "execution_count": 20,
     "metadata": {},
     "output_type": "execute_result"
    }
   ],
   "source": [
    "with open('algorithm/input.yaml', 'r') as file:\n",
    "    try:\n",
    "        yml_file = yaml.load(file, Loader=yaml.FullLoader)\n",
    "    except yaml.YAMLError as exc:\n",
    "        print(exc)\n",
    "yml_file"
   ]
  },
  {
   "cell_type": "code",
   "execution_count": 5,
   "metadata": {},
   "outputs": [],
   "source": [
    "yml_file['map']['obstacles'].append((2, 3))"
   ]
  },
  {
   "cell_type": "code",
   "execution_count": 12,
   "metadata": {},
   "outputs": [
    {
     "data": {
      "text/plain": [
       "[[24, 22], [2, 3]]"
      ]
     },
     "execution_count": 12,
     "metadata": {},
     "output_type": "execute_result"
    }
   ],
   "source": [
    "yml_file['map']['obstacles']"
   ]
  },
  {
   "cell_type": "code",
   "execution_count": 31,
   "metadata": {},
   "outputs": [],
   "source": [
    "yml_file = {'agents': [{'goal': [1, 5], 'name': 'agent0', 'start': [0, 1]}, {'goal': [10, 4], 'name': 'agent1', 'start': [2, 11]}, {'goal': [3, 9], 'name': 'agent2', 'start': [4, 9]}, {'goal': [10, 2], 'name': 'agent3', 'start': [0, 9]}], 'map': {'dimensions': [20, 12], 'obstacles': [[100, 100], [1.0, 4.0], [4.0, 3.0], [2.0, 3.0], [4.0, 4.0], [4.0, 1.0], [4.0, 3.0], [4.0, 4.0], [4.0, 3.0], [2.0, 1.0], [4.0, 4.0]]}, 'obstacles': [{'goal': [26, 17], 'name': 'obstacle0', 'start': [0, 0]}]}\n",
    "\n",
    "\n",
    "\n"
   ]
  },
  {
   "cell_type": "code",
   "execution_count": 32,
   "metadata": {},
   "outputs": [],
   "source": [
    "with open('algorithm/input.yaml', 'w') as output_yaml:\n",
    "    yaml.safe_dump(yml_file, output_yaml) \n"
   ]
  },
  {
   "cell_type": "markdown",
   "metadata": {},
   "source": [
    "with open('algorithm/input.yaml', 'r') as file:\n",
    "    try:\n",
    "        yml_file = yaml.load(file, Loader=yaml.FullLoader)\n",
    "    except yaml.YAMLError as exc:\n",
    "        print(exc)\n",
    "yml_file"
   ]
  },
  {
   "cell_type": "code",
   "execution_count": 13,
   "metadata": {},
   "outputs": [
    {
     "data": {
      "text/plain": [
       "[[1, 2], [2, 3], [4, 5]]"
      ]
     },
     "execution_count": 13,
     "metadata": {},
     "output_type": "execute_result"
    }
   ],
   "source": [
    "[[1, 2]] + [[2, 3], [4, 5]]"
   ]
  },
  {
   "cell_type": "code",
   "execution_count": null,
   "metadata": {},
   "outputs": [],
   "source": []
  }
 ],
 "metadata": {
  "kernelspec": {
   "display_name": "Python 3",
   "language": "python",
   "name": "python3"
  },
  "language_info": {
   "codemirror_mode": {
    "name": "ipython",
    "version": 3
   },
   "file_extension": ".py",
   "mimetype": "text/x-python",
   "name": "python",
   "nbconvert_exporter": "python",
   "pygments_lexer": "ipython3",
   "version": "3.8.3"
  }
 },
 "nbformat": 4,
 "nbformat_minor": 4
}
