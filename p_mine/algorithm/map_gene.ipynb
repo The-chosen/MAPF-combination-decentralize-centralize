{
 "cells": [
  {
   "cell_type": "code",
   "execution_count": 11,
   "metadata": {},
   "outputs": [],
   "source": [
    "import numpy as np\n",
    "import os\n",
    "import yaml\n",
    "import random"
   ]
  },
  {
   "cell_type": "code",
   "execution_count": null,
   "metadata": {},
   "outputs": [],
   "source": []
  },
  {
   "cell_type": "code",
   "execution_count": 12,
   "metadata": {},
   "outputs": [],
   "source": [
    "input_file = './inputs/input_5ag_0dy_3sta_seed1.yaml'\n",
    "dy_file = './dy_obstacles/dy_5ag_0dy_3sta_seed1.yaml'"
   ]
  },
  {
   "cell_type": "code",
   "execution_count": 13,
   "metadata": {},
   "outputs": [],
   "source": [
    "N = 5\n",
    "# static_obs_ratio = 0.6\n",
    "num_static_obs = 3\n",
    "map_size_x = 17\n",
    "map_size_y = 8\n",
    "x_min = 0\n",
    "y_min = 0\n",
    "seed = 1\n",
    "\n",
    "\n",
    "num_dynamic_obs = 1\n",
    "step_num_from = 1\n",
    "step_num_to = 2\n",
    "manhadon_dist_min = 1"
   ]
  },
  {
   "cell_type": "code",
   "execution_count": 14,
   "metadata": {},
   "outputs": [
    {
     "name": "stdout",
     "output_type": "stream",
     "text": [
      "agents:\n",
      "-   start:  [4, 1]\n",
      "    goal:  [8, 1]\n",
      "    name: agent0\n",
      "-   start:  [15, 7]\n",
      "    goal:  [15, 6]\n",
      "    name: agent1\n",
      "-   start:  [6, 1]\n",
      "    goal:  [15, 0]\n",
      "    name: agent2\n",
      "-   start:  [12, 6]\n",
      "    goal:  [0, 7]\n",
      "    name: agent3\n",
      "-   start:  [8, 3]\n",
      "    goal:  [3, 5]\n",
      "    name: agent4\n"
     ]
    }
   ],
   "source": [
    "random.seed(seed)\n",
    "\n",
    "input_f = open(input_file, 'a')\n",
    "\n",
    "input_dict = {'agents': []}\n",
    "\n",
    "start_ls = []\n",
    "end_ls = []\n",
    "\n",
    "input_f.write('agents:\\n')\n",
    "print('agents:')\n",
    "for agent_num in range(N):\n",
    "    while True:\n",
    "        start_x = random.choice(range(x_min, map_size_x))\n",
    "        start_y = random.choice(range(y_min, map_size_y))\n",
    "        end_x = random.choice(range(x_min, map_size_x))\n",
    "        end_y = random.choice(range(y_min, map_size_y))\n",
    "        if [start_x, start_y] not in start_ls and [end_x, end_y] not in end_ls:\n",
    "            start_ls.append([start_x, start_y])\n",
    "            end_ls.append([end_x, end_y])\n",
    "            break\n",
    "        else:\n",
    "            continue\n",
    "    input_dict['agents'].append({'start': [start_x, start_y], 'goal': [end_x, end_y], 'name': \"agent\" + str(agent_num)})\n",
    "    input_f.write(\"-   start: \" + str([start_x, start_y]) + '\\n')\n",
    "    input_f.write(\"    goal: \" + str([end_x, end_y]) + '\\n')\n",
    "    input_f.write(\"    name: agent\" + str(agent_num) + '\\n')\n",
    "    print(\"-   start: \", [start_x, start_y])\n",
    "    print(\"    goal: \", [end_x, end_y])\n",
    "    print(\"    name: agent\" + str(agent_num))\n",
    "\n",
    "\n",
    "# print(start_ls)\n",
    "# print(end_ls)"
   ]
  },
  {
   "cell_type": "code",
   "execution_count": 15,
   "metadata": {},
   "outputs": [
    {
     "name": "stdout",
     "output_type": "stream",
     "text": [
      "map:\n",
      "    dimensions: [ 17 ,  8 ]\n",
      "    obstacles:\n",
      "    - !!python/tuple  [0, 0]\n",
      "    - !!python/tuple  [12, 3]\n",
      "    - !!python/tuple  [13, 0]\n"
     ]
    }
   ],
   "source": [
    "num_static_obs = num_static_obs\n",
    "obs_ls = []\n",
    "input_f.write('map:\\n')\n",
    "input_f.write('    dimensions: [' + str(map_size_x) + ', ' + str(map_size_y) + ']\\n')\n",
    "input_f.write('    obstacles:' + '\\n')\n",
    "print('map:')\n",
    "print('    dimensions: [', map_size_x, ', ', map_size_y, ']')\n",
    "print('    obstacles:')\n",
    "for i in range(num_static_obs):\n",
    "    while True:\n",
    "        obs_x = random.choice(range(map_size_x))\n",
    "        obs_y = random.choice(range(map_size_y))\n",
    "        if [obs_x, obs_y] not in start_ls and [obs_x, obs_y] not in end_ls and [obs_x, obs_y] not in obs_ls:\n",
    "            obs_ls.append([obs_x, obs_y])\n",
    "            break\n",
    "        else:\n",
    "            continue\n",
    "    input_f.write('    - !!python/tuple ' + str([obs_x, obs_y]) + '\\n')\n",
    "    print('    - !!python/tuple ', [obs_x, obs_y])\n",
    "\n",
    "\n",
    "# print(obs_ls)"
   ]
  },
  {
   "cell_type": "code",
   "execution_count": 16,
   "metadata": {},
   "outputs": [
    {
     "name": "stdout",
     "output_type": "stream",
     "text": [
      "schedule:\n",
      "  obstacle0:\n",
      "  - t:  0\n",
      "    x:  16\n",
      "    y:  3\n",
      "  - t:  1\n",
      "    x:  17\n",
      "    y:  3\n"
     ]
    }
   ],
   "source": [
    "\n",
    "\n",
    "\n",
    "input_f.write('obstacles:\\n')\n",
    "for i in range(num_dynamic_obs):\n",
    "    input_f.write('-   start: [0, 0]\\n')\n",
    "    input_f.write('    goal: [32, 32]\\n')\n",
    "    input_f.write('    name: obstacle' + str(i) + '\\n')\n",
    "        \n",
    "input_f.close()\n",
    "\n",
    "dy_f = open(dy_file, 'a')\n",
    "\n",
    "random.seed(seed)\n",
    "\n",
    "dy_f.write('schedule:\\n')\n",
    "print('schedule:')\n",
    "for dyn_obs in range(num_dynamic_obs):\n",
    "    dy_f.write('  obstacle' + str(dyn_obs) + ':\\n')\n",
    "    print('  obstacle' + str(dyn_obs) + ':')\n",
    "    while True:\n",
    "        step_x = random.choice(range(map_size_x))\n",
    "        step_y = random.choice(range(map_size_y))\n",
    "        step = [step_x, step_y]\n",
    "        \n",
    "        is_bigger = True\n",
    "        for start_pt in start_ls:\n",
    "            manhadon_dist = abs(start_pt[0] - step_x) + abs(start_pt[1] - step_y)\n",
    "            if manhadon_dist < manhadon_dist_min:\n",
    "                is_bigger = False\n",
    "                break\n",
    "                \n",
    "        if is_bigger:\n",
    "            if step not in start_ls and step not in end_ls and step not in obs_ls:\n",
    "                dy_f.write('  - t: ' + str(0) + '\\n')\n",
    "                dy_f.write('    x: ' + str(step_x) + '\\n')\n",
    "                dy_f.write('    y: ' + str(step_y) + '\\n')\n",
    "                print('  - t: ', 0)\n",
    "                print('    x: ', step_x)\n",
    "                print('    y: ', step_y)\n",
    "                break\n",
    "    step_num = random.choice(range(step_num_from, step_num_to))\n",
    "    for step_ in range(step_num):\n",
    "        while True:\n",
    "            direction = random.choice(range(5)) # 0 => up | 1 => down | 2 => left | 3 => right | 4 => still \n",
    "            if direction == 0:\n",
    "                step_x_ = step_x\n",
    "                step_y_ = step_y + 1 \n",
    "            elif direction == 1:\n",
    "                step_x_ = step_x\n",
    "                step_y_ = step_y - 1 \n",
    "            elif direction == 2:\n",
    "                step_y_ = step_y\n",
    "                step_x_ = step_x - 1 \n",
    "            elif direction == 3:\n",
    "                step_y_ = step_y\n",
    "                step_x_ = step_x + 1 \n",
    "            else:\n",
    "                step_y_ = step_y\n",
    "                step_x_ = step_x\n",
    "\n",
    "            step = [step_x_, step_y_]\n",
    "\n",
    "            if step not in end_ls and step not in obs_ls and (0 <= step_x_ <= 31) and (0 <= step_y_ <= 31):\n",
    "                dy_f.write('  - t: ' + str((step_ + 1)) + '\\n')\n",
    "                dy_f.write('    x: ' + str(step_x) + '\\n')\n",
    "                dy_f.write('    y: ' + str(step_y) + '\\n')\n",
    "                print('  - t: ', (step_ + 1))\n",
    "                print('    x: ', step_x_)\n",
    "                print('    y: ', step_y_)\n",
    "                step_x = step_x_\n",
    "                step_y = step_y_\n",
    "                break\n",
    "dy_f.close()"
   ]
  },
  {
   "cell_type": "code",
   "execution_count": null,
   "metadata": {},
   "outputs": [],
   "source": []
  },
  {
   "cell_type": "code",
   "execution_count": null,
   "metadata": {},
   "outputs": [],
   "source": []
  },
  {
   "cell_type": "code",
   "execution_count": null,
   "metadata": {},
   "outputs": [],
   "source": []
  }
 ],
 "metadata": {
  "kernelspec": {
   "display_name": "Python 3",
   "language": "python",
   "name": "python3"
  },
  "language_info": {
   "codemirror_mode": {
    "name": "ipython",
    "version": 3
   },
   "file_extension": ".py",
   "mimetype": "text/x-python",
   "name": "python",
   "nbconvert_exporter": "python",
   "pygments_lexer": "ipython3",
   "version": "3.8.3"
  }
 },
 "nbformat": 4,
 "nbformat_minor": 4
}
